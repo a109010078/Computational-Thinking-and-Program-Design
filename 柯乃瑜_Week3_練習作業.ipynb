{
  "nbformat": 4,
  "nbformat_minor": 0,
  "metadata": {
    "colab": {
      "name": "柯乃瑜-Week3-練習作業.ipynb",
      "provenance": [],
      "collapsed_sections": [],
      "authorship_tag": "ABX9TyNAG6AP603S4TKv4WKs/19h",
      "include_colab_link": true
    },
    "kernelspec": {
      "name": "python3",
      "display_name": "Python 3"
    }
  },
  "cells": [
    {
      "cell_type": "markdown",
      "metadata": {
        "id": "view-in-github",
        "colab_type": "text"
      },
      "source": [
        "<a href=\"https://colab.research.google.com/github/a109010078/Computational-Thinking-and-Program-Design/blob/main/%E6%9F%AF%E4%B9%83%E7%91%9C_Week3_%E7%B7%B4%E7%BF%92%E4%BD%9C%E6%A5%AD.ipynb\" target=\"_parent\"><img src=\"https://colab.research.google.com/assets/colab-badge.svg\" alt=\"Open In Colab\"/></a>"
      ]
    },
    {
      "cell_type": "code",
      "metadata": {
        "colab": {
          "base_uri": "https://localhost:8080/"
        },
        "id": "_QBcdrUvTD6B",
        "outputId": "e168225a-fb8c-43d5-b917-b871d931655a"
      },
      "source": [
        "print(1+1)"
      ],
      "execution_count": null,
      "outputs": [
        {
          "output_type": "stream",
          "text": [
            "2\n"
          ],
          "name": "stdout"
        }
      ]
    },
    {
      "cell_type": "code",
      "metadata": {
        "colab": {
          "base_uri": "https://localhost:8080/"
        },
        "id": "NhzBWMr8T4BY",
        "outputId": "dd26176d-b332-42dc-9dec-9c20e55bba30"
      },
      "source": [
        "print(\"hello world\")"
      ],
      "execution_count": null,
      "outputs": [
        {
          "output_type": "stream",
          "text": [
            "hello world\n"
          ],
          "name": "stdout"
        }
      ]
    },
    {
      "cell_type": "code",
      "metadata": {
        "id": "yx4z7S9EUW4G"
      },
      "source": [
        ""
      ],
      "execution_count": null,
      "outputs": []
    },
    {
      "cell_type": "markdown",
      "metadata": {
        "id": "awjvE3ENZKsY"
      },
      "source": [
        "回家練習"
      ]
    },
    {
      "cell_type": "code",
      "metadata": {
        "id": "YVKQAqLuZOM-"
      },
      "source": [
        ""
      ],
      "execution_count": null,
      "outputs": []
    },
    {
      "cell_type": "markdown",
      "metadata": {
        "id": "EFsZjiVJNqcf"
      },
      "source": [
        "#隨堂練習\r\n",
        "\r\n",
        "(1)隨堂練習為各單元重點摘要\r\n",
        "\r\n",
        "透過以程式語⾔，可以撰寫程式並執行指令，達成我們想要完成的事。\r\n",
        "\r\n",
        "\r\n",
        "透過思考找到答案，就是運算思維。培養運算思維，可以訓練邏輯思考能力。\r\n"
      ]
    },
    {
      "cell_type": "markdown",
      "metadata": {
        "id": "Q3JUhP9mX25g"
      },
      "source": [
        "#課後練習\r\n",
        "\r\n",
        "\r\n",
        "(2)課後練習則為從一則新聞報導，提出你對新聞系（OO系）學生為什麼要學「運算思維與程式設計」的見解。（告訴我新聞連結，以及你的觀點即可。）\r\n",
        "\r\n",
        "https://udn.com/news/story/6904/4486806\r\n",
        "\r\n",
        "現今大考寫作題目考驗學生的邏輯思維能力，面對趨勢，上至大學下至國小，如今也格外注重運算思維的訓練。\r\n",
        "\r\n",
        "教育體制相當提倡素養導向，再結合新課綱的核心素養，自主學習程式語⾔已經蔚為風潮。\r\n",
        "\r\n",
        "運算思維的概念，就是透過思考找到答案。透過學習撰寫程式語言，能夠培養運算思維，進而訓練邏輯思考能力。經過長久訓練更能幫助學生統合跨領域概念，結合長才與發揮能耐。"
      ]
    },
    {
      "cell_type": "code",
      "metadata": {
        "id": "Q7QZO9HyX-2J"
      },
      "source": [
        ""
      ],
      "execution_count": null,
      "outputs": []
    }
  ]
}