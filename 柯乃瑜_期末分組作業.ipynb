{
  "nbformat": 4,
  "nbformat_minor": 0,
  "metadata": {
    "colab": {
      "name": "柯乃瑜-期末分組作業",
      "provenance": [],
      "collapsed_sections": [],
      "include_colab_link": true
    },
    "kernelspec": {
      "name": "python3",
      "display_name": "Python 3"
    },
    "language_info": {
      "name": "python"
    }
  },
  "cells": [
    {
      "cell_type": "markdown",
      "metadata": {
        "id": "view-in-github",
        "colab_type": "text"
      },
      "source": [
        "<a href=\"https://colab.research.google.com/github/a109010078/Computational-Thinking-and-Program-Design/blob/main/%E6%9F%AF%E4%B9%83%E7%91%9C_%E6%9C%9F%E6%9C%AB%E5%88%86%E7%B5%84%E4%BD%9C%E6%A5%AD.ipynb\" target=\"_parent\"><img src=\"https://colab.research.google.com/assets/colab-badge.svg\" alt=\"Open In Colab\"/></a>"
      ]
    },
    {
      "cell_type": "markdown",
      "metadata": {
        "id": "unCHjKF-knbv"
      },
      "source": [
        "組員 A109010012 李芷涵、 A109010069 李賽瑋、A109010078 柯乃瑜、 A109010129 曾郁淇"
      ]
    },
    {
      "cell_type": "code",
      "metadata": {
        "colab": {
          "base_uri": "https://localhost:8080/"
        },
        "id": "uKQf8oPpbx47",
        "outputId": "13ca61d0-e311-4edc-a81c-80ae1d7ac427"
      },
      "source": [
        "print(\"你好，初次見面～我是聊天機器人，讓我們開始聊天吧！\")\n",
        "\n",
        "name = input(\"嗨，請問妳叫什麼名字？: \")\n",
        "print(\"你好啊\", name, \"很高興認識你><\")\n",
        "\n",
        "country = input(\"請問你從哪裡來? : \")\n",
        "print(\"好棒:)聽說\",country, \"是個有趣的地方！\")\n",
        "\n",
        "print(name,\"你是不是覺得計算圓的面積很麻煩呢?\")\n",
        "print(\"偷偷跟你說，我可以幫你計算喔！要不要考考我？\")\n",
        "print(\"輸入你要計算的圓半徑吧！\")\n",
        "r = int(input(\"r=\"))\n",
        "def findArea(r):\n",
        "    PI = 3.142\n",
        "    return PI * (r*r)\n",
        "\n",
        "print(\"圓面積為:\", findArea(r))\n",
        "print(\"這樣就算好了！你看，是不是很方便！\")\n",
        "\n",
        "print(name,\"你想不想跟我玩一個遊戲呢?\")\n",
        "answer = input(\"想要跟我玩遊戲嗎(好啊/不要) :\")\n",
        "\n",
        "\n",
        "if answer == \"好啊\" :\n",
        "     print(\"那我們要玩什麼遊戲?\")\n",
        "     print(\"不知道ㄟ 你有什麼想玩的嗎?\")\n",
        "     print(\"我想想喔!\")\n",
        "     print(\"那我們來玩猜數字遊戲好不好?\")\n",
        "     answer = input(\"要不要玩猜數字遊戲?(好啊/不要) :\")\n",
        "if answer == \"好啊\" :\n",
        "    print(\"那我們來玩吧!\")\n",
        "    print(\"好!\")\n",
        "         \n",
        "from random import choice\n",
        "a = range(1,101)\n",
        "t = choice(a)\n",
        "game = True\n",
        "while game:\n",
        "    x = int(input(\"猜數字: \"))\n",
        "    if x > t:\n",
        "        print(\"小一點\")\n",
        "    elif x < t:\n",
        "        print(\"大一點\")\n",
        "    else:\n",
        "        print(f\"恭喜答對, 答案就是{t}, 遊戲結束\")\n",
        "        game = False\n",
        "\n",
        "print(\"時間過得好快喔\", name, \"跟你聊天好開心～我們下次再見喔！\")\n",
        "    "
      ],
      "execution_count": null,
      "outputs": [
        {
          "output_type": "stream",
          "text": [
            "你好，初次見面～我是聊天機器人，讓我們開始聊天吧！\n",
            "嗨，請問妳叫什麼名字？: 1\n",
            "你好啊 1 很高興認識你><\n",
            "請問你從哪裡來? : 2\n",
            "好棒:)聽說 2 是個有趣的地方！\n",
            "1 你是不是覺得計算圓的面積很麻煩呢?\n",
            "偷偷跟你說，我可以幫你計算喔！要不要考考我？\n",
            "輸入你要計算的圓半徑吧！\n",
            "r=3\n",
            "圓面積為: 28.278\n",
            "這樣就算好了！你看，是不是很方便！\n",
            "1 你想不想跟我玩一個遊戲呢?\n",
            "想要跟我玩遊戲嗎(好啊/不要) :好啊\n",
            "那我們要玩什麼遊戲?\n",
            "不知道ㄟ 你有什麼想玩的嗎?\n",
            "我想想喔!\n",
            "那我們來玩猜數字遊戲好不好?\n",
            "要不要玩猜數字遊戲?(好啊/不要) :不要\n",
            "猜數字: 1\n",
            "大一點\n",
            "猜數字: 6\n",
            "大一點\n",
            "猜數字: 11\n",
            "大一點\n",
            "猜數字: 100\n",
            "小一點\n",
            "猜數字: 49\n",
            "小一點\n",
            "猜數字: 23\n",
            "大一點\n",
            "猜數字: 34\n",
            "大一點\n",
            "猜數字: 55\n",
            "小一點\n",
            "猜數字: 45\n",
            "小一點\n",
            "猜數字: 44\n",
            "小一點\n",
            "猜數字: 43\n",
            "小一點\n",
            "猜數字: 42\n",
            "恭喜答對, 答案就是42, 遊戲結束\n",
            "時間過得好快喔 1 跟你聊天好開心～我們下次再見喔！\n"
          ],
          "name": "stdout"
        }
      ]
    },
    {
      "cell_type": "markdown",
      "metadata": {
        "id": "YMEpWQ21kP2y"
      },
      "source": [
        "腳本：你好，初次見面～我是聊天機器人，讓我們開始聊天吧！\n",
        "嗨，請問妳叫什麼名字？: 1\n",
        "你好啊 1 很高興認識你><\n",
        "請問你從哪裡來? : 2\n",
        "好棒:)聽說 2 是個有趣的地方！\n",
        "1 你是不是覺得計算圓的面積很麻煩呢?\n",
        "偷偷跟你說，我可以幫你計算喔！要不要考考我？\n",
        "輸入你要計算的圓半徑吧！\n",
        "r=3\n",
        "圓面積為: 28.278\n",
        "這樣就算好了！你看，是不是很方便！\n",
        "1 你想不想跟我玩一個遊戲呢?\n",
        "想要跟我玩遊戲嗎(好啊/不要) :好啊\n",
        "那我們要玩什麼遊戲?\n",
        "不知道ㄟ 你有什麼想玩的嗎?\n",
        "我想想喔!\n",
        "那我們來玩猜數字遊戲好不好?\n",
        "要不要玩猜數字遊戲?(好啊/不要) :不要\n",
        "猜數字: 1\n",
        "大一點\n",
        "猜數字: 6\n",
        "大一點\n",
        "猜數字: 11\n",
        "大一點\n",
        "猜數字: 100\n",
        "小一點\n",
        "猜數字: 49\n",
        "小一點\n",
        "猜數字: 23\n",
        "大一點\n",
        "猜數字: 34\n",
        "大一點\n",
        "猜數字: 55\n",
        "小一點\n",
        "猜數字: 45\n",
        "小一點\n",
        "猜數字: 44\n",
        "小一點\n",
        "猜數字: 43\n",
        "小一點\n",
        "猜數字: 42\n",
        "恭喜答對, 答案就是42, 遊戲結束\n",
        "時間過得好快喔 1 跟你聊天好開心～我們下次再見喔！"
      ]
    }
  ]
}