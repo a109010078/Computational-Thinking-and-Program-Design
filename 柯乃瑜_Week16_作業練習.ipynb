{
  "nbformat": 4,
  "nbformat_minor": 0,
  "metadata": {
    "kernelspec": {
      "display_name": "Python 3",
      "language": "python",
      "name": "python3"
    },
    "language_info": {
      "codemirror_mode": {
        "name": "ipython",
        "version": 3
      },
      "file_extension": ".py",
      "mimetype": "text/x-python",
      "name": "python",
      "nbconvert_exporter": "python",
      "pygments_lexer": "ipython3",
      "version": "3.8.5"
    },
    "colab": {
      "name": "柯乃瑜-Week16-作業練習",
      "provenance": [],
      "collapsed_sections": [],
      "include_colab_link": true
    }
  },
  "cells": [
    {
      "cell_type": "markdown",
      "metadata": {
        "id": "view-in-github",
        "colab_type": "text"
      },
      "source": [
        "<a href=\"https://colab.research.google.com/github/a109010078/Computational-Thinking-and-Program-Design/blob/main/%E6%9F%AF%E4%B9%83%E7%91%9C_Week16_%E4%BD%9C%E6%A5%AD%E7%B7%B4%E7%BF%92.ipynb\" target=\"_parent\"><img src=\"https://colab.research.google.com/assets/colab-badge.svg\" alt=\"Open In Colab\"/></a>"
      ]
    },
    {
      "cell_type": "markdown",
      "metadata": {
        "id": "cHA9PUWvBTvn"
      },
      "source": [
        "while條件迴圈"
      ]
    },
    {
      "cell_type": "code",
      "metadata": {
        "colab": {
          "base_uri": "https://localhost:8080/",
          "height": 137
        },
        "id": "jx0GiOBHBUV1",
        "outputId": "09b7d313-1ea0-463d-9e4a-14a008a6a20f"
      },
      "source": [
        "## if 條件式到 while迴圈\n",
        "n = 5\n",
        "  if n < 10:\n",
        "  print(\"n小於10!\")\n",
        "\n",
        "## while迴圈(二)\n",
        "n = 5\n",
        "while n < 10:\n",
        "print(\"n小於10!\") \n",
        "print(\"我還在迴圈中!!\") \n",
        "\n",
        "## while迴圈(三)\n",
        "n = 5\n",
        "while n < 10: \n",
        "  print(\"n小於10!\")\n",
        "  print(\"我要出迴圈!!\") \n",
        "  n = 100\n",
        "  print(\"我出來了\")\n",
        "\n",
        "\n",
        "## while迴圈(四)\n",
        "n = 5\n",
        "while n < 10:\n",
        "  print(\"n小於10!\") \n",
        "  print(\"我要出迴圈!!\") \n",
        "  n=n+1   \n",
        "  print(\"我出來了\")"
      ],
      "execution_count": 27,
      "outputs": [
        {
          "output_type": "error",
          "ename": "IndentationError",
          "evalue": "ignored",
          "traceback": [
            "\u001b[0;36m  File \u001b[0;32m\"<ipython-input-27-9ebf8485d204>\"\u001b[0;36m, line \u001b[0;32m3\u001b[0m\n\u001b[0;31m    if n < 10:\u001b[0m\n\u001b[0m    ^\u001b[0m\n\u001b[0;31mIndentationError\u001b[0m\u001b[0;31m:\u001b[0m unexpected indent\n"
          ]
        }
      ]
    },
    {
      "cell_type": "markdown",
      "metadata": {
        "id": "YivHbu3iBUCX"
      },
      "source": [
        "印10次hello"
      ]
    },
    {
      "cell_type": "code",
      "metadata": {
        "colab": {
          "base_uri": "https://localhost:8080/",
          "height": 137
        },
        "id": "awZ49Oz7BUtq",
        "outputId": "c2129720-6173-4bb1-e47d-921063edbefe"
      },
      "source": [
        "In [3]: ## 一般型迴圈\n",
        "  ## 方法(一):\n",
        "  n = 0\n",
        "  while n < 10:\n",
        "  print(\"hello\")\n",
        "  n=n+1 # 更新條件 Step"
      ],
      "execution_count": 31,
      "outputs": [
        {
          "output_type": "error",
          "ename": "IndentationError",
          "evalue": "ignored",
          "traceback": [
            "\u001b[0;36m  File \u001b[0;32m\"<ipython-input-31-01535aaa7ddc>\"\u001b[0;36m, line \u001b[0;32m3\u001b[0m\n\u001b[0;31m    n  =  0\u001b[0m\n\u001b[0m    ^\u001b[0m\n\u001b[0;31mIndentationError\u001b[0m\u001b[0;31m:\u001b[0m unexpected indent\n"
          ]
        }
      ]
    }
  ]
}