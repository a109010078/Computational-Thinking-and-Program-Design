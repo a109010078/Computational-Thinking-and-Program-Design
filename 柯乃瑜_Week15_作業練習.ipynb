{
  "nbformat": 4,
  "nbformat_minor": 0,
  "metadata": {
    "kernelspec": {
      "display_name": "Python 3",
      "language": "python",
      "name": "python3"
    },
    "language_info": {
      "codemirror_mode": {
        "name": "ipython",
        "version": 3
      },
      "file_extension": ".py",
      "mimetype": "text/x-python",
      "name": "python",
      "nbconvert_exporter": "python",
      "pygments_lexer": "ipython3",
      "version": "3.8.5"
    },
    "colab": {
      "name": "柯乃瑜-Week15-作業練習",
      "provenance": [],
      "include_colab_link": true
    }
  },
  "cells": [
    {
      "cell_type": "markdown",
      "metadata": {
        "id": "view-in-github",
        "colab_type": "text"
      },
      "source": [
        "<a href=\"https://colab.research.google.com/github/a109010078/Computational-Thinking-and-Program-Design/blob/main/%E6%9F%AF%E4%B9%83%E7%91%9C_Week15_%E4%BD%9C%E6%A5%AD%E7%B7%B4%E7%BF%92.ipynb\" target=\"_parent\"><img src=\"https://colab.research.google.com/assets/colab-badge.svg\" alt=\"Open In Colab\"/></a>"
      ]
    },
    {
      "cell_type": "markdown",
      "metadata": {
        "id": "cHA9PUWvBTvn"
      },
      "source": [
        "棒打老虎雞吃蟲"
      ]
    },
    {
      "cell_type": "code",
      "metadata": {
        "colab": {
          "base_uri": "https://localhost:8080/"
        },
        "id": "jx0GiOBHBUV1",
        "outputId": "6abdf0cb-1263-451c-a897-4c89fe3f782c"
      },
      "source": [
        "my_choice  =  int(input(\" [0] 蟲 [1] 雞 [2] 老虎 [3] 棒⼦\"))\n",
        "print(\"你出的拳:\", my_choice)\n",
        "import random\n",
        "com_choice  =  random.randint(0, 3)\n",
        "print(\"電腦出拳為\", com_choice)\n",
        "#後面勝前面，其他平手\n",
        "if  my_choice  ==  (com_choice  + 1) % 4:\n",
        "  print(\"我贏了\")\n",
        "elif com_choice == (my_choice + 1) % 4:\n",
        "  print(\"電腦贏了\")\n",
        "else:\n",
        "  print(\"平⼿\")"
      ],
      "execution_count": null,
      "outputs": [
        {
          "output_type": "stream",
          "text": [
            " [0] 蟲 [1] 雞 [2] 老虎 [3] 棒⼦3\n",
            "你出的拳: 3\n",
            "電腦出拳為 1\n",
            "平⼿\n"
          ],
          "name": "stdout"
        }
      ]
    },
    {
      "cell_type": "markdown",
      "metadata": {
        "id": "fcBKh4lQCHLf"
      },
      "source": [
        "冒險遊戲"
      ]
    },
    {
      "cell_type": "code",
      "metadata": {
        "colab": {
          "base_uri": "https://localhost:8080/",
          "height": 137
        },
        "id": "_IowS1NmCHaL",
        "outputId": "9b03551a-9f6a-48d2-bd8b-a84211bfa98f"
      },
      "source": [
        "name = \"柯乃瑜\"\n",
        "\n",
        "## 遊戲說明\n",
        "print(f\"Welcome to {name}'s Choose Your Own Adventure game! \\\n",
        "As you follow the story, you will be presented with choices that decide your fate. \\\n",
        "Take care and choose wisely! Let's begin.\")\n",
        "\n",
        "## 遊戲開始\n",
        "print(f\"You find yourself in a dark room with 2 doors. \\ The first door is red, the second is white!\")\n",
        "\n",
        "## 做出你的選擇(雙向巢狀)\n",
        "door_choice = input(\"Which door do you want to choose? \\ red = red door or white = white door\")\n",
        "\n",
        "if door_choice == \"red\":\n",
        "    print(\"Great, you walk through the red door and are now in the future! \\\n",
        "    You meet a scientist who gives you a mission of helping him save the world!\")\n",
        "\n",
        "    choose_one = input(\"What do you want to do? \\\n",
        "    1 = Accept or 2 = Decline\")\n",
        "    if choice_one == \"1\":\n",
        "      print(\"\"\"_____SUCCESS_____\n",
        "      You will helped the scientist save the world!\n",
        "      In gratitude, the scientist builds a time machine and sends you home! \"\"\")\n",
        "      else:\n",
        "        print(\"\"\"______GAME OVER______\n",
        "        Too bad! You declined the sientist's offer and\n",
        "        now you are stuck in the future!\"\"\")\n",
        "      else:\n",
        "    print(\"Great, you walked through the white door and now you are in the past! \\\n",
        "    You meet a princess who asks you to go on a request.\")\n",
        "    quest_choice = input(\"Do you want to accept her offer and go on the quest, \\\n",
        "    or do you want to stay where you are?  1 = Accept or 2 = Decline\")\n",
        "\n",
        "if quest_choice == \"1\":\n",
        "  print(\"\"\"_____SUCCESS_____\n",
        "  Princess thanks you for accepting her offer. You begin the quest.\"\"\")\n",
        "  else:\n",
        "        print(\"\"\"______GAME OVER _____\n",
        "        Well, I guess your story ends here!\"\"\")"
      ],
      "execution_count": 36,
      "outputs": [
        {
          "output_type": "error",
          "ename": "SyntaxError",
          "evalue": "ignored",
          "traceback": [
            "\u001b[0;36m  File \u001b[0;32m\"<ipython-input-36-5e3c0ed7ac32>\"\u001b[0;36m, line \u001b[0;32m20\u001b[0m\n\u001b[0;31m    else:\u001b[0m\n\u001b[0m       ^\u001b[0m\n\u001b[0;31mSyntaxError\u001b[0m\u001b[0;31m:\u001b[0m invalid syntax\n"
          ]
        }
      ]
    }
  ]
}